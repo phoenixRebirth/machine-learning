{
 "cells": [
  {
   "cell_type": "code",
   "execution_count": 1,
   "metadata": {
    "collapsed": true
   },
   "outputs": [],
   "source": [
    "import pandas as pd\n",
    "from sklearn.utils import shuffle\n",
    "from sklearn import svm\n",
    "from sklearn.linear_model import LogisticRegression\n",
    "import functools as ft"
   ]
  },
  {
   "cell_type": "code",
   "execution_count": 2,
   "metadata": {
    "collapsed": false
   },
   "outputs": [
    {
     "name": "stdout",
     "output_type": "stream",
     "text": [
      "mkdir: ../data/iris: File exists\n",
      "mv: /Users/Christophe/Downloads/IRIS.csv: No such file or directory\n"
     ]
    }
   ],
   "source": [
    "!mkdir ../data/iris\n",
    "!mv /Users/Christophe/Downloads/IRIS.csv ../data/iris/iris.csv"
   ]
  },
  {
   "cell_type": "code",
   "execution_count": 4,
   "metadata": {
    "collapsed": false
   },
   "outputs": [
    {
     "name": "stdout",
     "output_type": "stream",
     "text": [
      "     100 ../data/iris/iris.csv\r\n"
     ]
    }
   ],
   "source": [
    "!wc -l ../data/iris/iris.csv"
   ]
  },
  {
   "cell_type": "code",
   "execution_count": 5,
   "metadata": {
    "collapsed": false
   },
   "outputs": [],
   "source": [
    "iris_df = pd.read_csv(\"../data/iris/iris.csv\", header= None)"
   ]
  },
  {
   "cell_type": "code",
   "execution_count": 7,
   "metadata": {
    "collapsed": false,
    "scrolled": true
   },
   "outputs": [],
   "source": [
    "iris_df.columns = ['x1' ,'x2','x3' ,'x4' ,'x5' ,'x6' ,'x7', 'x8', 'y']"
   ]
  },
  {
   "cell_type": "code",
   "execution_count": 8,
   "metadata": {
    "collapsed": false
   },
   "outputs": [
    {
     "data": {
      "text/html": [
       "<div>\n",
       "<table border=\"1\" class=\"dataframe\">\n",
       "  <thead>\n",
       "    <tr style=\"text-align: right;\">\n",
       "      <th></th>\n",
       "      <th>x1</th>\n",
       "      <th>x2</th>\n",
       "      <th>x3</th>\n",
       "      <th>x4</th>\n",
       "      <th>x5</th>\n",
       "      <th>x6</th>\n",
       "      <th>x7</th>\n",
       "      <th>x8</th>\n",
       "      <th>y</th>\n",
       "    </tr>\n",
       "  </thead>\n",
       "  <tbody>\n",
       "    <tr>\n",
       "      <th>0</th>\n",
       "      <td>5.1</td>\n",
       "      <td>0.222222</td>\n",
       "      <td>3.5</td>\n",
       "      <td>0.625000</td>\n",
       "      <td>1.4</td>\n",
       "      <td>0.067797</td>\n",
       "      <td>0.2</td>\n",
       "      <td>0.041667</td>\n",
       "      <td>setosa</td>\n",
       "    </tr>\n",
       "    <tr>\n",
       "      <th>1</th>\n",
       "      <td>4.9</td>\n",
       "      <td>0.166667</td>\n",
       "      <td>3.0</td>\n",
       "      <td>0.416667</td>\n",
       "      <td>1.4</td>\n",
       "      <td>0.067797</td>\n",
       "      <td>0.2</td>\n",
       "      <td>0.041667</td>\n",
       "      <td>setosa</td>\n",
       "    </tr>\n",
       "    <tr>\n",
       "      <th>2</th>\n",
       "      <td>4.7</td>\n",
       "      <td>0.111111</td>\n",
       "      <td>3.2</td>\n",
       "      <td>0.500000</td>\n",
       "      <td>1.3</td>\n",
       "      <td>0.050847</td>\n",
       "      <td>0.2</td>\n",
       "      <td>0.041667</td>\n",
       "      <td>setosa</td>\n",
       "    </tr>\n",
       "  </tbody>\n",
       "</table>\n",
       "</div>"
      ],
      "text/plain": [
       "    x1        x2   x3        x4   x5        x6   x7        x8       y\n",
       "0  5.1  0.222222  3.5  0.625000  1.4  0.067797  0.2  0.041667  setosa\n",
       "1  4.9  0.166667  3.0  0.416667  1.4  0.067797  0.2  0.041667  setosa\n",
       "2  4.7  0.111111  3.2  0.500000  1.3  0.050847  0.2  0.041667  setosa"
      ]
     },
     "execution_count": 8,
     "metadata": {},
     "output_type": "execute_result"
    }
   ],
   "source": [
    "iris_df.head(3)"
   ]
  },
  {
   "cell_type": "code",
   "execution_count": 9,
   "metadata": {
    "collapsed": true
   },
   "outputs": [],
   "source": [
    "iris_df = shuffle(iris_df)"
   ]
  },
  {
   "cell_type": "code",
   "execution_count": 10,
   "metadata": {
    "collapsed": false
   },
   "outputs": [],
   "source": [
    "def f(x) :\n",
    "    if x == \"setosa\":\n",
    "        return(0)\n",
    "    elif x == \"virginica\":\n",
    "        return(1)\n",
    "    else: \n",
    "        return(3)"
   ]
  },
  {
   "cell_type": "code",
   "execution_count": 11,
   "metadata": {
    "collapsed": true
   },
   "outputs": [],
   "source": [
    "iris_df['y'] = list(map(f, iris_df['y']))"
   ]
  },
  {
   "cell_type": "code",
   "execution_count": null,
   "metadata": {
    "collapsed": true
   },
   "outputs": [],
   "source": []
  },
  {
   "cell_type": "code",
   "execution_count": 15,
   "metadata": {
    "collapsed": false
   },
   "outputs": [],
   "source": [
    "train = iris_df.head(70)"
   ]
  },
  {
   "cell_type": "code",
   "execution_count": 16,
   "metadata": {
    "collapsed": false
   },
   "outputs": [
    {
     "data": {
      "text/html": [
       "<div>\n",
       "<table border=\"1\" class=\"dataframe\">\n",
       "  <thead>\n",
       "    <tr style=\"text-align: right;\">\n",
       "      <th></th>\n",
       "      <th>x1</th>\n",
       "      <th>x2</th>\n",
       "      <th>x3</th>\n",
       "      <th>x4</th>\n",
       "      <th>x5</th>\n",
       "      <th>x6</th>\n",
       "      <th>x7</th>\n",
       "      <th>x8</th>\n",
       "      <th>y</th>\n",
       "    </tr>\n",
       "  </thead>\n",
       "  <tbody>\n",
       "    <tr>\n",
       "      <th>5</th>\n",
       "      <td>5.4</td>\n",
       "      <td>0.305556</td>\n",
       "      <td>3.9</td>\n",
       "      <td>0.791667</td>\n",
       "      <td>1.7</td>\n",
       "      <td>0.118644</td>\n",
       "      <td>0.4</td>\n",
       "      <td>0.125000</td>\n",
       "      <td>0</td>\n",
       "    </tr>\n",
       "    <tr>\n",
       "      <th>24</th>\n",
       "      <td>4.8</td>\n",
       "      <td>0.138889</td>\n",
       "      <td>3.4</td>\n",
       "      <td>0.583333</td>\n",
       "      <td>1.9</td>\n",
       "      <td>0.152542</td>\n",
       "      <td>0.2</td>\n",
       "      <td>0.041667</td>\n",
       "      <td>0</td>\n",
       "    </tr>\n",
       "  </tbody>\n",
       "</table>\n",
       "</div>"
      ],
      "text/plain": [
       "     x1        x2   x3        x4   x5        x6   x7        x8  y\n",
       "5   5.4  0.305556  3.9  0.791667  1.7  0.118644  0.4  0.125000  0\n",
       "24  4.8  0.138889  3.4  0.583333  1.9  0.152542  0.2  0.041667  0"
      ]
     },
     "execution_count": 16,
     "metadata": {},
     "output_type": "execute_result"
    }
   ],
   "source": [
    "train.head(2)"
   ]
  },
  {
   "cell_type": "code",
   "execution_count": 38,
   "metadata": {
    "collapsed": true
   },
   "outputs": [],
   "source": [
    "x_train = train[['x1' ,'x2','x3' ,'x4' ,'x5' ,'x6' ,'x7', 'x8']]"
   ]
  },
  {
   "cell_type": "code",
   "execution_count": 46,
   "metadata": {
    "collapsed": false
   },
   "outputs": [],
   "source": [
    "x_train = x_train.apply(list, 1)"
   ]
  },
  {
   "cell_type": "code",
   "execution_count": 47,
   "metadata": {
    "collapsed": false
   },
   "outputs": [
    {
     "data": {
      "text/html": [
       "<div>\n",
       "<table border=\"1\" class=\"dataframe\">\n",
       "  <thead>\n",
       "    <tr style=\"text-align: right;\">\n",
       "      <th></th>\n",
       "      <th>x1</th>\n",
       "      <th>x2</th>\n",
       "      <th>x3</th>\n",
       "      <th>x4</th>\n",
       "      <th>x5</th>\n",
       "      <th>x6</th>\n",
       "      <th>x7</th>\n",
       "      <th>x8</th>\n",
       "    </tr>\n",
       "  </thead>\n",
       "  <tbody>\n",
       "    <tr>\n",
       "      <th>5</th>\n",
       "      <td>5.4</td>\n",
       "      <td>0.305556</td>\n",
       "      <td>3.9</td>\n",
       "      <td>0.791667</td>\n",
       "      <td>1.7</td>\n",
       "      <td>0.118644</td>\n",
       "      <td>0.4</td>\n",
       "      <td>0.125000</td>\n",
       "    </tr>\n",
       "    <tr>\n",
       "      <th>24</th>\n",
       "      <td>4.8</td>\n",
       "      <td>0.138889</td>\n",
       "      <td>3.4</td>\n",
       "      <td>0.583333</td>\n",
       "      <td>1.9</td>\n",
       "      <td>0.152542</td>\n",
       "      <td>0.2</td>\n",
       "      <td>0.041667</td>\n",
       "    </tr>\n",
       "    <tr>\n",
       "      <th>98</th>\n",
       "      <td>6.4</td>\n",
       "      <td>0.583333</td>\n",
       "      <td>2.8</td>\n",
       "      <td>0.333333</td>\n",
       "      <td>5.6</td>\n",
       "      <td>0.779661</td>\n",
       "      <td>2.2</td>\n",
       "      <td>0.875000</td>\n",
       "    </tr>\n",
       "    <tr>\n",
       "      <th>37</th>\n",
       "      <td>5.7</td>\n",
       "      <td>0.388889</td>\n",
       "      <td>2.8</td>\n",
       "      <td>0.333333</td>\n",
       "      <td>4.5</td>\n",
       "      <td>0.593220</td>\n",
       "      <td>1.3</td>\n",
       "      <td>0.500000</td>\n",
       "    </tr>\n",
       "    <tr>\n",
       "      <th>81</th>\n",
       "      <td>6.4</td>\n",
       "      <td>0.583333</td>\n",
       "      <td>3.2</td>\n",
       "      <td>0.500000</td>\n",
       "      <td>5.3</td>\n",
       "      <td>0.728814</td>\n",
       "      <td>2.3</td>\n",
       "      <td>0.916667</td>\n",
       "    </tr>\n",
       "    <tr>\n",
       "      <th>64</th>\n",
       "      <td>5.8</td>\n",
       "      <td>0.416667</td>\n",
       "      <td>2.7</td>\n",
       "      <td>0.291667</td>\n",
       "      <td>3.9</td>\n",
       "      <td>0.491525</td>\n",
       "      <td>1.2</td>\n",
       "      <td>0.458333</td>\n",
       "    </tr>\n",
       "    <tr>\n",
       "      <th>79</th>\n",
       "      <td>5.7</td>\n",
       "      <td>0.388889</td>\n",
       "      <td>2.5</td>\n",
       "      <td>0.208333</td>\n",
       "      <td>5.0</td>\n",
       "      <td>0.677966</td>\n",
       "      <td>2.0</td>\n",
       "      <td>0.791667</td>\n",
       "    </tr>\n",
       "    <tr>\n",
       "      <th>17</th>\n",
       "      <td>5.1</td>\n",
       "      <td>0.222222</td>\n",
       "      <td>3.5</td>\n",
       "      <td>0.625000</td>\n",
       "      <td>1.4</td>\n",
       "      <td>0.067797</td>\n",
       "      <td>0.3</td>\n",
       "      <td>0.083333</td>\n",
       "    </tr>\n",
       "    <tr>\n",
       "      <th>63</th>\n",
       "      <td>5.5</td>\n",
       "      <td>0.333333</td>\n",
       "      <td>2.4</td>\n",
       "      <td>0.166667</td>\n",
       "      <td>3.7</td>\n",
       "      <td>0.457627</td>\n",
       "      <td>1.0</td>\n",
       "      <td>0.375000</td>\n",
       "    </tr>\n",
       "    <tr>\n",
       "      <th>41</th>\n",
       "      <td>5.2</td>\n",
       "      <td>0.250000</td>\n",
       "      <td>2.7</td>\n",
       "      <td>0.291667</td>\n",
       "      <td>3.9</td>\n",
       "      <td>0.491525</td>\n",
       "      <td>1.4</td>\n",
       "      <td>0.541667</td>\n",
       "    </tr>\n",
       "    <tr>\n",
       "      <th>27</th>\n",
       "      <td>5.2</td>\n",
       "      <td>0.250000</td>\n",
       "      <td>3.5</td>\n",
       "      <td>0.625000</td>\n",
       "      <td>1.5</td>\n",
       "      <td>0.084746</td>\n",
       "      <td>0.2</td>\n",
       "      <td>0.041667</td>\n",
       "    </tr>\n",
       "    <tr>\n",
       "      <th>45</th>\n",
       "      <td>6.1</td>\n",
       "      <td>0.500000</td>\n",
       "      <td>2.9</td>\n",
       "      <td>0.375000</td>\n",
       "      <td>4.7</td>\n",
       "      <td>0.627119</td>\n",
       "      <td>1.4</td>\n",
       "      <td>0.541667</td>\n",
       "    </tr>\n",
       "    <tr>\n",
       "      <th>91</th>\n",
       "      <td>7.2</td>\n",
       "      <td>0.805556</td>\n",
       "      <td>3.2</td>\n",
       "      <td>0.500000</td>\n",
       "      <td>6.0</td>\n",
       "      <td>0.847458</td>\n",
       "      <td>1.8</td>\n",
       "      <td>0.708333</td>\n",
       "    </tr>\n",
       "    <tr>\n",
       "      <th>67</th>\n",
       "      <td>5.8</td>\n",
       "      <td>0.416667</td>\n",
       "      <td>2.7</td>\n",
       "      <td>0.291667</td>\n",
       "      <td>5.1</td>\n",
       "      <td>0.694915</td>\n",
       "      <td>1.9</td>\n",
       "      <td>0.750000</td>\n",
       "    </tr>\n",
       "    <tr>\n",
       "      <th>46</th>\n",
       "      <td>5.6</td>\n",
       "      <td>0.361111</td>\n",
       "      <td>2.9</td>\n",
       "      <td>0.375000</td>\n",
       "      <td>3.6</td>\n",
       "      <td>0.440678</td>\n",
       "      <td>1.3</td>\n",
       "      <td>0.500000</td>\n",
       "    </tr>\n",
       "    <tr>\n",
       "      <th>75</th>\n",
       "      <td>7.2</td>\n",
       "      <td>0.805556</td>\n",
       "      <td>3.6</td>\n",
       "      <td>0.666667</td>\n",
       "      <td>6.1</td>\n",
       "      <td>0.864407</td>\n",
       "      <td>2.5</td>\n",
       "      <td>0.999900</td>\n",
       "    </tr>\n",
       "    <tr>\n",
       "      <th>87</th>\n",
       "      <td>5.6</td>\n",
       "      <td>0.361111</td>\n",
       "      <td>2.8</td>\n",
       "      <td>0.333333</td>\n",
       "      <td>4.9</td>\n",
       "      <td>0.661017</td>\n",
       "      <td>2.0</td>\n",
       "      <td>0.791667</td>\n",
       "    </tr>\n",
       "    <tr>\n",
       "      <th>84</th>\n",
       "      <td>7.7</td>\n",
       "      <td>0.944444</td>\n",
       "      <td>2.6</td>\n",
       "      <td>0.250000</td>\n",
       "      <td>6.9</td>\n",
       "      <td>0.999900</td>\n",
       "      <td>2.3</td>\n",
       "      <td>0.916667</td>\n",
       "    </tr>\n",
       "    <tr>\n",
       "      <th>89</th>\n",
       "      <td>6.3</td>\n",
       "      <td>0.555556</td>\n",
       "      <td>2.7</td>\n",
       "      <td>0.291667</td>\n",
       "      <td>4.9</td>\n",
       "      <td>0.661017</td>\n",
       "      <td>1.8</td>\n",
       "      <td>0.708333</td>\n",
       "    </tr>\n",
       "    <tr>\n",
       "      <th>78</th>\n",
       "      <td>6.8</td>\n",
       "      <td>0.694444</td>\n",
       "      <td>3.0</td>\n",
       "      <td>0.416667</td>\n",
       "      <td>5.5</td>\n",
       "      <td>0.762712</td>\n",
       "      <td>2.1</td>\n",
       "      <td>0.833333</td>\n",
       "    </tr>\n",
       "    <tr>\n",
       "      <th>74</th>\n",
       "      <td>6.7</td>\n",
       "      <td>0.666667</td>\n",
       "      <td>2.5</td>\n",
       "      <td>0.208333</td>\n",
       "      <td>5.8</td>\n",
       "      <td>0.813559</td>\n",
       "      <td>1.8</td>\n",
       "      <td>0.708333</td>\n",
       "    </tr>\n",
       "    <tr>\n",
       "      <th>44</th>\n",
       "      <td>6.0</td>\n",
       "      <td>0.472222</td>\n",
       "      <td>2.2</td>\n",
       "      <td>0.083333</td>\n",
       "      <td>4.0</td>\n",
       "      <td>0.508475</td>\n",
       "      <td>1.0</td>\n",
       "      <td>0.375000</td>\n",
       "    </tr>\n",
       "    <tr>\n",
       "      <th>55</th>\n",
       "      <td>6.1</td>\n",
       "      <td>0.500000</td>\n",
       "      <td>2.8</td>\n",
       "      <td>0.333333</td>\n",
       "      <td>4.7</td>\n",
       "      <td>0.627119</td>\n",
       "      <td>1.2</td>\n",
       "      <td>0.458333</td>\n",
       "    </tr>\n",
       "    <tr>\n",
       "      <th>4</th>\n",
       "      <td>5.0</td>\n",
       "      <td>0.194444</td>\n",
       "      <td>3.6</td>\n",
       "      <td>0.666667</td>\n",
       "      <td>1.4</td>\n",
       "      <td>0.067797</td>\n",
       "      <td>0.2</td>\n",
       "      <td>0.041667</td>\n",
       "    </tr>\n",
       "    <tr>\n",
       "      <th>69</th>\n",
       "      <td>6.3</td>\n",
       "      <td>0.555556</td>\n",
       "      <td>2.9</td>\n",
       "      <td>0.375000</td>\n",
       "      <td>5.6</td>\n",
       "      <td>0.779661</td>\n",
       "      <td>1.8</td>\n",
       "      <td>0.708333</td>\n",
       "    </tr>\n",
       "    <tr>\n",
       "      <th>90</th>\n",
       "      <td>6.7</td>\n",
       "      <td>0.666667</td>\n",
       "      <td>3.3</td>\n",
       "      <td>0.541667</td>\n",
       "      <td>5.7</td>\n",
       "      <td>0.796610</td>\n",
       "      <td>2.1</td>\n",
       "      <td>0.833333</td>\n",
       "    </tr>\n",
       "    <tr>\n",
       "      <th>31</th>\n",
       "      <td>5.4</td>\n",
       "      <td>0.305556</td>\n",
       "      <td>3.4</td>\n",
       "      <td>0.583333</td>\n",
       "      <td>1.5</td>\n",
       "      <td>0.084746</td>\n",
       "      <td>0.4</td>\n",
       "      <td>0.125000</td>\n",
       "    </tr>\n",
       "    <tr>\n",
       "      <th>52</th>\n",
       "      <td>5.9</td>\n",
       "      <td>0.444444</td>\n",
       "      <td>3.2</td>\n",
       "      <td>0.500000</td>\n",
       "      <td>4.8</td>\n",
       "      <td>0.644068</td>\n",
       "      <td>1.8</td>\n",
       "      <td>0.708333</td>\n",
       "    </tr>\n",
       "    <tr>\n",
       "      <th>15</th>\n",
       "      <td>5.7</td>\n",
       "      <td>0.388889</td>\n",
       "      <td>4.4</td>\n",
       "      <td>0.999900</td>\n",
       "      <td>1.5</td>\n",
       "      <td>0.084746</td>\n",
       "      <td>0.4</td>\n",
       "      <td>0.125000</td>\n",
       "    </tr>\n",
       "    <tr>\n",
       "      <th>58</th>\n",
       "      <td>6.8</td>\n",
       "      <td>0.694444</td>\n",
       "      <td>2.8</td>\n",
       "      <td>0.333333</td>\n",
       "      <td>4.8</td>\n",
       "      <td>0.644068</td>\n",
       "      <td>1.4</td>\n",
       "      <td>0.541667</td>\n",
       "    </tr>\n",
       "    <tr>\n",
       "      <th>...</th>\n",
       "      <td>...</td>\n",
       "      <td>...</td>\n",
       "      <td>...</td>\n",
       "      <td>...</td>\n",
       "      <td>...</td>\n",
       "      <td>...</td>\n",
       "      <td>...</td>\n",
       "      <td>...</td>\n",
       "    </tr>\n",
       "    <tr>\n",
       "      <th>3</th>\n",
       "      <td>4.6</td>\n",
       "      <td>0.083333</td>\n",
       "      <td>3.1</td>\n",
       "      <td>0.458333</td>\n",
       "      <td>1.5</td>\n",
       "      <td>0.084746</td>\n",
       "      <td>0.2</td>\n",
       "      <td>0.041667</td>\n",
       "    </tr>\n",
       "    <tr>\n",
       "      <th>11</th>\n",
       "      <td>4.8</td>\n",
       "      <td>0.138889</td>\n",
       "      <td>3.4</td>\n",
       "      <td>0.583333</td>\n",
       "      <td>1.6</td>\n",
       "      <td>0.101695</td>\n",
       "      <td>0.2</td>\n",
       "      <td>0.041667</td>\n",
       "    </tr>\n",
       "    <tr>\n",
       "      <th>76</th>\n",
       "      <td>6.5</td>\n",
       "      <td>0.611111</td>\n",
       "      <td>3.2</td>\n",
       "      <td>0.500000</td>\n",
       "      <td>5.1</td>\n",
       "      <td>0.694915</td>\n",
       "      <td>2.0</td>\n",
       "      <td>0.791667</td>\n",
       "    </tr>\n",
       "    <tr>\n",
       "      <th>62</th>\n",
       "      <td>5.5</td>\n",
       "      <td>0.333333</td>\n",
       "      <td>2.4</td>\n",
       "      <td>0.166667</td>\n",
       "      <td>3.8</td>\n",
       "      <td>0.474576</td>\n",
       "      <td>1.1</td>\n",
       "      <td>0.416667</td>\n",
       "    </tr>\n",
       "    <tr>\n",
       "      <th>86</th>\n",
       "      <td>6.9</td>\n",
       "      <td>0.722222</td>\n",
       "      <td>3.2</td>\n",
       "      <td>0.500000</td>\n",
       "      <td>5.7</td>\n",
       "      <td>0.796610</td>\n",
       "      <td>2.3</td>\n",
       "      <td>0.916667</td>\n",
       "    </tr>\n",
       "    <tr>\n",
       "      <th>32</th>\n",
       "      <td>7.0</td>\n",
       "      <td>0.750000</td>\n",
       "      <td>3.2</td>\n",
       "      <td>0.500000</td>\n",
       "      <td>4.7</td>\n",
       "      <td>0.627119</td>\n",
       "      <td>1.4</td>\n",
       "      <td>0.541667</td>\n",
       "    </tr>\n",
       "    <tr>\n",
       "      <th>95</th>\n",
       "      <td>7.2</td>\n",
       "      <td>0.805556</td>\n",
       "      <td>3.0</td>\n",
       "      <td>0.416667</td>\n",
       "      <td>5.8</td>\n",
       "      <td>0.813559</td>\n",
       "      <td>1.6</td>\n",
       "      <td>0.625000</td>\n",
       "    </tr>\n",
       "    <tr>\n",
       "      <th>68</th>\n",
       "      <td>7.1</td>\n",
       "      <td>0.777778</td>\n",
       "      <td>3.0</td>\n",
       "      <td>0.416667</td>\n",
       "      <td>5.9</td>\n",
       "      <td>0.830508</td>\n",
       "      <td>2.1</td>\n",
       "      <td>0.833333</td>\n",
       "    </tr>\n",
       "    <tr>\n",
       "      <th>9</th>\n",
       "      <td>4.9</td>\n",
       "      <td>0.166667</td>\n",
       "      <td>3.1</td>\n",
       "      <td>0.458333</td>\n",
       "      <td>1.5</td>\n",
       "      <td>0.084746</td>\n",
       "      <td>0.1</td>\n",
       "      <td>0.010000</td>\n",
       "    </tr>\n",
       "    <tr>\n",
       "      <th>83</th>\n",
       "      <td>7.7</td>\n",
       "      <td>0.944444</td>\n",
       "      <td>3.8</td>\n",
       "      <td>0.750000</td>\n",
       "      <td>6.7</td>\n",
       "      <td>0.966102</td>\n",
       "      <td>2.2</td>\n",
       "      <td>0.875000</td>\n",
       "    </tr>\n",
       "    <tr>\n",
       "      <th>22</th>\n",
       "      <td>4.6</td>\n",
       "      <td>0.083333</td>\n",
       "      <td>3.6</td>\n",
       "      <td>0.666667</td>\n",
       "      <td>1.0</td>\n",
       "      <td>0.010000</td>\n",
       "      <td>0.2</td>\n",
       "      <td>0.041667</td>\n",
       "    </tr>\n",
       "    <tr>\n",
       "      <th>61</th>\n",
       "      <td>5.7</td>\n",
       "      <td>0.388889</td>\n",
       "      <td>2.6</td>\n",
       "      <td>0.250000</td>\n",
       "      <td>3.5</td>\n",
       "      <td>0.423729</td>\n",
       "      <td>1.0</td>\n",
       "      <td>0.375000</td>\n",
       "    </tr>\n",
       "    <tr>\n",
       "      <th>54</th>\n",
       "      <td>6.3</td>\n",
       "      <td>0.555556</td>\n",
       "      <td>2.5</td>\n",
       "      <td>0.208333</td>\n",
       "      <td>4.9</td>\n",
       "      <td>0.661017</td>\n",
       "      <td>1.5</td>\n",
       "      <td>0.583333</td>\n",
       "    </tr>\n",
       "    <tr>\n",
       "      <th>10</th>\n",
       "      <td>5.4</td>\n",
       "      <td>0.305556</td>\n",
       "      <td>3.7</td>\n",
       "      <td>0.708333</td>\n",
       "      <td>1.5</td>\n",
       "      <td>0.084746</td>\n",
       "      <td>0.2</td>\n",
       "      <td>0.041667</td>\n",
       "    </tr>\n",
       "    <tr>\n",
       "      <th>99</th>\n",
       "      <td>6.3</td>\n",
       "      <td>0.555556</td>\n",
       "      <td>2.8</td>\n",
       "      <td>0.333333</td>\n",
       "      <td>5.1</td>\n",
       "      <td>0.694915</td>\n",
       "      <td>1.5</td>\n",
       "      <td>0.583333</td>\n",
       "    </tr>\n",
       "    <tr>\n",
       "      <th>77</th>\n",
       "      <td>6.4</td>\n",
       "      <td>0.583333</td>\n",
       "      <td>2.7</td>\n",
       "      <td>0.291667</td>\n",
       "      <td>5.3</td>\n",
       "      <td>0.728814</td>\n",
       "      <td>1.9</td>\n",
       "      <td>0.750000</td>\n",
       "    </tr>\n",
       "    <tr>\n",
       "      <th>93</th>\n",
       "      <td>6.1</td>\n",
       "      <td>0.500000</td>\n",
       "      <td>3.0</td>\n",
       "      <td>0.416667</td>\n",
       "      <td>4.9</td>\n",
       "      <td>0.661017</td>\n",
       "      <td>1.8</td>\n",
       "      <td>0.708333</td>\n",
       "    </tr>\n",
       "    <tr>\n",
       "      <th>30</th>\n",
       "      <td>4.8</td>\n",
       "      <td>0.138889</td>\n",
       "      <td>3.1</td>\n",
       "      <td>0.458333</td>\n",
       "      <td>1.6</td>\n",
       "      <td>0.101695</td>\n",
       "      <td>0.2</td>\n",
       "      <td>0.041667</td>\n",
       "    </tr>\n",
       "    <tr>\n",
       "      <th>47</th>\n",
       "      <td>6.7</td>\n",
       "      <td>0.666667</td>\n",
       "      <td>3.1</td>\n",
       "      <td>0.458333</td>\n",
       "      <td>4.4</td>\n",
       "      <td>0.576271</td>\n",
       "      <td>1.4</td>\n",
       "      <td>0.541667</td>\n",
       "    </tr>\n",
       "    <tr>\n",
       "      <th>7</th>\n",
       "      <td>5.0</td>\n",
       "      <td>0.194444</td>\n",
       "      <td>3.4</td>\n",
       "      <td>0.583333</td>\n",
       "      <td>1.5</td>\n",
       "      <td>0.084746</td>\n",
       "      <td>0.2</td>\n",
       "      <td>0.041667</td>\n",
       "    </tr>\n",
       "    <tr>\n",
       "      <th>97</th>\n",
       "      <td>7.9</td>\n",
       "      <td>0.999900</td>\n",
       "      <td>3.8</td>\n",
       "      <td>0.750000</td>\n",
       "      <td>6.4</td>\n",
       "      <td>0.915254</td>\n",
       "      <td>2.0</td>\n",
       "      <td>0.791667</td>\n",
       "    </tr>\n",
       "    <tr>\n",
       "      <th>16</th>\n",
       "      <td>5.4</td>\n",
       "      <td>0.305556</td>\n",
       "      <td>3.9</td>\n",
       "      <td>0.791667</td>\n",
       "      <td>1.3</td>\n",
       "      <td>0.050847</td>\n",
       "      <td>0.4</td>\n",
       "      <td>0.125000</td>\n",
       "    </tr>\n",
       "    <tr>\n",
       "      <th>94</th>\n",
       "      <td>6.4</td>\n",
       "      <td>0.583333</td>\n",
       "      <td>2.8</td>\n",
       "      <td>0.333333</td>\n",
       "      <td>5.6</td>\n",
       "      <td>0.779661</td>\n",
       "      <td>2.1</td>\n",
       "      <td>0.833333</td>\n",
       "    </tr>\n",
       "    <tr>\n",
       "      <th>57</th>\n",
       "      <td>6.6</td>\n",
       "      <td>0.638889</td>\n",
       "      <td>3.0</td>\n",
       "      <td>0.416667</td>\n",
       "      <td>4.4</td>\n",
       "      <td>0.576271</td>\n",
       "      <td>1.4</td>\n",
       "      <td>0.541667</td>\n",
       "    </tr>\n",
       "    <tr>\n",
       "      <th>0</th>\n",
       "      <td>5.1</td>\n",
       "      <td>0.222222</td>\n",
       "      <td>3.5</td>\n",
       "      <td>0.625000</td>\n",
       "      <td>1.4</td>\n",
       "      <td>0.067797</td>\n",
       "      <td>0.2</td>\n",
       "      <td>0.041667</td>\n",
       "    </tr>\n",
       "    <tr>\n",
       "      <th>25</th>\n",
       "      <td>5.0</td>\n",
       "      <td>0.194444</td>\n",
       "      <td>3.0</td>\n",
       "      <td>0.416667</td>\n",
       "      <td>1.6</td>\n",
       "      <td>0.101695</td>\n",
       "      <td>0.2</td>\n",
       "      <td>0.041667</td>\n",
       "    </tr>\n",
       "    <tr>\n",
       "      <th>73</th>\n",
       "      <td>7.3</td>\n",
       "      <td>0.833333</td>\n",
       "      <td>2.9</td>\n",
       "      <td>0.375000</td>\n",
       "      <td>6.3</td>\n",
       "      <td>0.898305</td>\n",
       "      <td>1.8</td>\n",
       "      <td>0.708333</td>\n",
       "    </tr>\n",
       "    <tr>\n",
       "      <th>66</th>\n",
       "      <td>6.3</td>\n",
       "      <td>0.555556</td>\n",
       "      <td>3.3</td>\n",
       "      <td>0.541667</td>\n",
       "      <td>6.0</td>\n",
       "      <td>0.847458</td>\n",
       "      <td>2.5</td>\n",
       "      <td>0.999900</td>\n",
       "    </tr>\n",
       "    <tr>\n",
       "      <th>18</th>\n",
       "      <td>5.7</td>\n",
       "      <td>0.388889</td>\n",
       "      <td>3.8</td>\n",
       "      <td>0.750000</td>\n",
       "      <td>1.7</td>\n",
       "      <td>0.118644</td>\n",
       "      <td>0.3</td>\n",
       "      <td>0.083333</td>\n",
       "    </tr>\n",
       "    <tr>\n",
       "      <th>14</th>\n",
       "      <td>5.8</td>\n",
       "      <td>0.416667</td>\n",
       "      <td>4.0</td>\n",
       "      <td>0.833333</td>\n",
       "      <td>1.2</td>\n",
       "      <td>0.033898</td>\n",
       "      <td>0.2</td>\n",
       "      <td>0.041667</td>\n",
       "    </tr>\n",
       "  </tbody>\n",
       "</table>\n",
       "<p>70 rows × 8 columns</p>\n",
       "</div>"
      ],
      "text/plain": [
       "     x1        x2   x3        x4   x5        x6   x7        x8\n",
       "5   5.4  0.305556  3.9  0.791667  1.7  0.118644  0.4  0.125000\n",
       "24  4.8  0.138889  3.4  0.583333  1.9  0.152542  0.2  0.041667\n",
       "98  6.4  0.583333  2.8  0.333333  5.6  0.779661  2.2  0.875000\n",
       "37  5.7  0.388889  2.8  0.333333  4.5  0.593220  1.3  0.500000\n",
       "81  6.4  0.583333  3.2  0.500000  5.3  0.728814  2.3  0.916667\n",
       "64  5.8  0.416667  2.7  0.291667  3.9  0.491525  1.2  0.458333\n",
       "79  5.7  0.388889  2.5  0.208333  5.0  0.677966  2.0  0.791667\n",
       "17  5.1  0.222222  3.5  0.625000  1.4  0.067797  0.3  0.083333\n",
       "63  5.5  0.333333  2.4  0.166667  3.7  0.457627  1.0  0.375000\n",
       "41  5.2  0.250000  2.7  0.291667  3.9  0.491525  1.4  0.541667\n",
       "27  5.2  0.250000  3.5  0.625000  1.5  0.084746  0.2  0.041667\n",
       "45  6.1  0.500000  2.9  0.375000  4.7  0.627119  1.4  0.541667\n",
       "91  7.2  0.805556  3.2  0.500000  6.0  0.847458  1.8  0.708333\n",
       "67  5.8  0.416667  2.7  0.291667  5.1  0.694915  1.9  0.750000\n",
       "46  5.6  0.361111  2.9  0.375000  3.6  0.440678  1.3  0.500000\n",
       "75  7.2  0.805556  3.6  0.666667  6.1  0.864407  2.5  0.999900\n",
       "87  5.6  0.361111  2.8  0.333333  4.9  0.661017  2.0  0.791667\n",
       "84  7.7  0.944444  2.6  0.250000  6.9  0.999900  2.3  0.916667\n",
       "89  6.3  0.555556  2.7  0.291667  4.9  0.661017  1.8  0.708333\n",
       "78  6.8  0.694444  3.0  0.416667  5.5  0.762712  2.1  0.833333\n",
       "74  6.7  0.666667  2.5  0.208333  5.8  0.813559  1.8  0.708333\n",
       "44  6.0  0.472222  2.2  0.083333  4.0  0.508475  1.0  0.375000\n",
       "55  6.1  0.500000  2.8  0.333333  4.7  0.627119  1.2  0.458333\n",
       "4   5.0  0.194444  3.6  0.666667  1.4  0.067797  0.2  0.041667\n",
       "69  6.3  0.555556  2.9  0.375000  5.6  0.779661  1.8  0.708333\n",
       "90  6.7  0.666667  3.3  0.541667  5.7  0.796610  2.1  0.833333\n",
       "31  5.4  0.305556  3.4  0.583333  1.5  0.084746  0.4  0.125000\n",
       "52  5.9  0.444444  3.2  0.500000  4.8  0.644068  1.8  0.708333\n",
       "15  5.7  0.388889  4.4  0.999900  1.5  0.084746  0.4  0.125000\n",
       "58  6.8  0.694444  2.8  0.333333  4.8  0.644068  1.4  0.541667\n",
       "..  ...       ...  ...       ...  ...       ...  ...       ...\n",
       "3   4.6  0.083333  3.1  0.458333  1.5  0.084746  0.2  0.041667\n",
       "11  4.8  0.138889  3.4  0.583333  1.6  0.101695  0.2  0.041667\n",
       "76  6.5  0.611111  3.2  0.500000  5.1  0.694915  2.0  0.791667\n",
       "62  5.5  0.333333  2.4  0.166667  3.8  0.474576  1.1  0.416667\n",
       "86  6.9  0.722222  3.2  0.500000  5.7  0.796610  2.3  0.916667\n",
       "32  7.0  0.750000  3.2  0.500000  4.7  0.627119  1.4  0.541667\n",
       "95  7.2  0.805556  3.0  0.416667  5.8  0.813559  1.6  0.625000\n",
       "68  7.1  0.777778  3.0  0.416667  5.9  0.830508  2.1  0.833333\n",
       "9   4.9  0.166667  3.1  0.458333  1.5  0.084746  0.1  0.010000\n",
       "83  7.7  0.944444  3.8  0.750000  6.7  0.966102  2.2  0.875000\n",
       "22  4.6  0.083333  3.6  0.666667  1.0  0.010000  0.2  0.041667\n",
       "61  5.7  0.388889  2.6  0.250000  3.5  0.423729  1.0  0.375000\n",
       "54  6.3  0.555556  2.5  0.208333  4.9  0.661017  1.5  0.583333\n",
       "10  5.4  0.305556  3.7  0.708333  1.5  0.084746  0.2  0.041667\n",
       "99  6.3  0.555556  2.8  0.333333  5.1  0.694915  1.5  0.583333\n",
       "77  6.4  0.583333  2.7  0.291667  5.3  0.728814  1.9  0.750000\n",
       "93  6.1  0.500000  3.0  0.416667  4.9  0.661017  1.8  0.708333\n",
       "30  4.8  0.138889  3.1  0.458333  1.6  0.101695  0.2  0.041667\n",
       "47  6.7  0.666667  3.1  0.458333  4.4  0.576271  1.4  0.541667\n",
       "7   5.0  0.194444  3.4  0.583333  1.5  0.084746  0.2  0.041667\n",
       "97  7.9  0.999900  3.8  0.750000  6.4  0.915254  2.0  0.791667\n",
       "16  5.4  0.305556  3.9  0.791667  1.3  0.050847  0.4  0.125000\n",
       "94  6.4  0.583333  2.8  0.333333  5.6  0.779661  2.1  0.833333\n",
       "57  6.6  0.638889  3.0  0.416667  4.4  0.576271  1.4  0.541667\n",
       "0   5.1  0.222222  3.5  0.625000  1.4  0.067797  0.2  0.041667\n",
       "25  5.0  0.194444  3.0  0.416667  1.6  0.101695  0.2  0.041667\n",
       "73  7.3  0.833333  2.9  0.375000  6.3  0.898305  1.8  0.708333\n",
       "66  6.3  0.555556  3.3  0.541667  6.0  0.847458  2.5  0.999900\n",
       "18  5.7  0.388889  3.8  0.750000  1.7  0.118644  0.3  0.083333\n",
       "14  5.8  0.416667  4.0  0.833333  1.2  0.033898  0.2  0.041667\n",
       "\n",
       "[70 rows x 8 columns]"
      ]
     },
     "execution_count": 47,
     "metadata": {},
     "output_type": "execute_result"
    }
   ],
   "source": [
    "x_train"
   ]
  },
  {
   "cell_type": "code",
   "execution_count": 25,
   "metadata": {
    "collapsed": true
   },
   "outputs": [],
   "source": [
    "y_train = train['y']"
   ]
  },
  {
   "cell_type": "code",
   "execution_count": 27,
   "metadata": {
    "collapsed": true
   },
   "outputs": [],
   "source": [
    "test = iris_df.tail(30)"
   ]
  },
  {
   "cell_type": "code",
   "execution_count": 28,
   "metadata": {
    "collapsed": false
   },
   "outputs": [],
   "source": [
    "x_test = test[['x1' ,'x2','x3' ,'x4' ,'x5' ,'x6' ,'x7', 'x8']]"
   ]
  },
  {
   "cell_type": "code",
   "execution_count": 29,
   "metadata": {
    "collapsed": true
   },
   "outputs": [],
   "source": [
    "y_test = test['y']"
   ]
  },
  {
   "cell_type": "code",
   "execution_count": 50,
   "metadata": {
    "collapsed": false
   },
   "outputs": [],
   "source": [
    "clf = LogisticRegression(solver='newton-cg', max_iter=100, random_state=42,\n",
    "                             multi_class='multinomial').fit(x_train, y_train)"
   ]
  },
  {
   "cell_type": "code",
   "execution_count": 51,
   "metadata": {
    "collapsed": false,
    "scrolled": true
   },
   "outputs": [
    {
     "data": {
      "text/plain": [
       "LogisticRegression(C=1.0, class_weight=None, dual=False, fit_intercept=True,\n",
       "          intercept_scaling=1, max_iter=100, multi_class='multinomial',\n",
       "          n_jobs=1, penalty='l2', random_state=42, solver='newton-cg',\n",
       "          tol=0.0001, verbose=0, warm_start=False)"
      ]
     },
     "execution_count": 51,
     "metadata": {},
     "output_type": "execute_result"
    }
   ],
   "source": [
    "clf"
   ]
  },
  {
   "cell_type": "code",
   "execution_count": 52,
   "metadata": {
    "collapsed": false
   },
   "outputs": [
    {
     "data": {
      "text/plain": [
       "0.98571428571428577"
      ]
     },
     "execution_count": 52,
     "metadata": {},
     "output_type": "execute_result"
    }
   ],
   "source": [
    "clf.score(x_train, y_train)"
   ]
  },
  {
   "cell_type": "code",
   "execution_count": 53,
   "metadata": {
    "collapsed": true
   },
   "outputs": [],
   "source": [
    "y_pred = clf.predict(x_test)"
   ]
  },
  {
   "cell_type": "code",
   "execution_count": 54,
   "metadata": {
    "collapsed": false
   },
   "outputs": [
    {
     "data": {
      "text/plain": [
       "(30,)"
      ]
     },
     "execution_count": 54,
     "metadata": {},
     "output_type": "execute_result"
    }
   ],
   "source": [
    "y_pred.shape"
   ]
  },
  {
   "cell_type": "code",
   "execution_count": 55,
   "metadata": {
    "collapsed": false
   },
   "outputs": [
    {
     "data": {
      "text/plain": [
       "array([3, 3, 3, 1, 1, 0, 1, 3, 0, 1, 0, 3, 1, 3, 0, 3, 0, 3, 3, 3, 0, 0, 1,\n",
       "       0, 1, 0, 3, 0, 3, 3])"
      ]
     },
     "execution_count": 55,
     "metadata": {},
     "output_type": "execute_result"
    }
   ],
   "source": [
    "y_pred"
   ]
  },
  {
   "cell_type": "code",
   "execution_count": 57,
   "metadata": {
    "collapsed": false,
    "scrolled": true
   },
   "outputs": [
    {
     "data": {
      "text/plain": [
       "[3,\n",
       " 3,\n",
       " 3,\n",
       " 3,\n",
       " 3,\n",
       " 0,\n",
       " 1,\n",
       " 3,\n",
       " 0,\n",
       " 1,\n",
       " 0,\n",
       " 3,\n",
       " 1,\n",
       " 1,\n",
       " 0,\n",
       " 3,\n",
       " 0,\n",
       " 3,\n",
       " 1,\n",
       " 3,\n",
       " 0,\n",
       " 0,\n",
       " 1,\n",
       " 0,\n",
       " 1,\n",
       " 0,\n",
       " 3,\n",
       " 0,\n",
       " 3,\n",
       " 3]"
      ]
     },
     "execution_count": 57,
     "metadata": {},
     "output_type": "execute_result"
    }
   ],
   "source": [
    "list(y_test)"
   ]
  },
  {
   "cell_type": "code",
   "execution_count": 58,
   "metadata": {
    "collapsed": false
   },
   "outputs": [
    {
     "data": {
      "text/plain": [
       "0.8666666666666667"
      ]
     },
     "execution_count": 58,
     "metadata": {},
     "output_type": "execute_result"
    }
   ],
   "source": [
    "clf.score(x_test, y_test)"
   ]
  },
  {
   "cell_type": "code",
   "execution_count": null,
   "metadata": {
    "collapsed": true
   },
   "outputs": [],
   "source": []
  },
  {
   "cell_type": "code",
   "execution_count": null,
   "metadata": {
    "collapsed": true
   },
   "outputs": [],
   "source": []
  },
  {
   "cell_type": "code",
   "execution_count": null,
   "metadata": {
    "collapsed": true
   },
   "outputs": [],
   "source": []
  },
  {
   "cell_type": "code",
   "execution_count": null,
   "metadata": {
    "collapsed": true
   },
   "outputs": [],
   "source": []
  }
 ],
 "metadata": {
  "kernelspec": {
   "display_name": "Python 3",
   "language": "python",
   "name": "python3"
  },
  "language_info": {
   "codemirror_mode": {
    "name": "ipython",
    "version": 3
   },
   "file_extension": ".py",
   "mimetype": "text/x-python",
   "name": "python",
   "nbconvert_exporter": "python",
   "pygments_lexer": "ipython3",
   "version": "3.5.0"
  }
 },
 "nbformat": 4,
 "nbformat_minor": 0
}
