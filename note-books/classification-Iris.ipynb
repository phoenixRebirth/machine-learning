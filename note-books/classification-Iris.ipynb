{
 "cells": [
  {
   "cell_type": "code",
   "execution_count": 56,
   "metadata": {
    "collapsed": false,
    "deletable": true,
    "editable": true
   },
   "outputs": [],
   "source": [
    "import pandas as pd\n",
    "from sklearn.utils import shuffle\n",
    "from sklearn import svm\n",
    "from sklearn.linear_model import LogisticRegression\n",
    "import functools as ft\n",
    "import numpy as np\n",
    "from sklearn.model_selection import KFold\n",
    "from sklearn import datasets\n",
    "import random\n",
    "from sklearn.model_selection import ShuffleSplit\n",
    "from sklearn.naive_bayes import GaussianNB"
   ]
  },
  {
   "cell_type": "markdown",
   "metadata": {
    "deletable": true,
    "editable": true
   },
   "source": [
    "# 0 Data processing"
   ]
  },
  {
   "cell_type": "code",
   "execution_count": null,
   "metadata": {
    "collapsed": false,
    "deletable": true,
    "editable": true
   },
   "outputs": [],
   "source": [
    "#!mkdir ../data/iris\n",
    "#!mv /Users/Christophe/Downloads/IRIS.csv ../data/iris/iris.csv"
   ]
  },
  {
   "cell_type": "code",
   "execution_count": null,
   "metadata": {
    "collapsed": false,
    "deletable": true,
    "editable": true
   },
   "outputs": [],
   "source": [
    "#!wc -l ../data/iris/iris.csv"
   ]
  },
  {
   "cell_type": "code",
   "execution_count": null,
   "metadata": {
    "collapsed": false,
    "deletable": true,
    "editable": true
   },
   "outputs": [],
   "source": [
    "#iris_df = pd.read_csv(\"../data/iris/iris.csv\", header= None)"
   ]
  },
  {
   "cell_type": "code",
   "execution_count": null,
   "metadata": {
    "collapsed": false,
    "deletable": true,
    "editable": true,
    "scrolled": true
   },
   "outputs": [],
   "source": [
    "#iris_df.columns = ['x1', 'x2', 'x3', 'x4', 'x5', 'x6', 'x7', 'x8', 'y']"
   ]
  },
  {
   "cell_type": "code",
   "execution_count": null,
   "metadata": {
    "collapsed": false,
    "deletable": true,
    "editable": true
   },
   "outputs": [],
   "source": [
    "#iris_df.head(3)"
   ]
  },
  {
   "cell_type": "code",
   "execution_count": null,
   "metadata": {
    "collapsed": true,
    "deletable": true,
    "editable": true
   },
   "outputs": [],
   "source": [
    "#iris_df = shuffle(iris_df)"
   ]
  },
  {
   "cell_type": "code",
   "execution_count": null,
   "metadata": {
    "collapsed": false,
    "deletable": true,
    "editable": true
   },
   "outputs": [],
   "source": [
    "#def f(x) :\n",
    "#     if x == \"setosa\":\n",
    "#         return(0)\n",
    "#     elif x == \"virginica\":\n",
    "#         return(1)\n",
    "#     else: \n",
    "#         return(3)"
   ]
  },
  {
   "cell_type": "code",
   "execution_count": null,
   "metadata": {
    "collapsed": true,
    "deletable": true,
    "editable": true
   },
   "outputs": [],
   "source": [
    "# iris_df['y'] = list(map(f, iris_df['y']))"
   ]
  },
  {
   "cell_type": "code",
   "execution_count": 2,
   "metadata": {
    "collapsed": false,
    "deletable": true,
    "editable": true
   },
   "outputs": [
    {
     "data": {
      "text/plain": [
       "[34,\n",
       " 147,\n",
       " 138,\n",
       " 79,\n",
       " 143,\n",
       " 44,\n",
       " 74,\n",
       " 13,\n",
       " 27,\n",
       " 29,\n",
       " 28,\n",
       " 119,\n",
       " 55,\n",
       " 60,\n",
       " 135,\n",
       " 45,\n",
       " 64,\n",
       " 53,\n",
       " 33,\n",
       " 134,\n",
       " 38,\n",
       " 93,\n",
       " 120,\n",
       " 130,\n",
       " 86,\n",
       " 144,\n",
       " 82,\n",
       " 118,\n",
       " 99,\n",
       " 141,\n",
       " 3,\n",
       " 0,\n",
       " 136,\n",
       " 105,\n",
       " 30,\n",
       " 129,\n",
       " 32,\n",
       " 127,\n",
       " 77,\n",
       " 94,\n",
       " 111,\n",
       " 36,\n",
       " 69,\n",
       " 5,\n",
       " 63,\n",
       " 103,\n",
       " 140,\n",
       " 54,\n",
       " 10,\n",
       " 50,\n",
       " 26,\n",
       " 107,\n",
       " 96,\n",
       " 117,\n",
       " 100,\n",
       " 83,\n",
       " 15,\n",
       " 95,\n",
       " 58,\n",
       " 4,\n",
       " 148,\n",
       " 65,\n",
       " 25,\n",
       " 114,\n",
       " 92,\n",
       " 48,\n",
       " 115,\n",
       " 110,\n",
       " 57,\n",
       " 51,\n",
       " 16,\n",
       " 49,\n",
       " 2,\n",
       " 125,\n",
       " 35,\n",
       " 68,\n",
       " 102,\n",
       " 17,\n",
       " 1,\n",
       " 70,\n",
       " 98,\n",
       " 7,\n",
       " 8,\n",
       " 21,\n",
       " 66,\n",
       " 46,\n",
       " 71,\n",
       " 40,\n",
       " 122,\n",
       " 22,\n",
       " 80,\n",
       " 90,\n",
       " 97,\n",
       " 52,\n",
       " 104,\n",
       " 76,\n",
       " 113,\n",
       " 56,\n",
       " 39,\n",
       " 145,\n",
       " 41,\n",
       " 131,\n",
       " 142,\n",
       " 9,\n",
       " 116,\n",
       " 37,\n",
       " 101,\n",
       " 23,\n",
       " 91,\n",
       " 89,\n",
       " 59,\n",
       " 87,\n",
       " 78,\n",
       " 109,\n",
       " 14,\n",
       " 133,\n",
       " 88,\n",
       " 106,\n",
       " 12,\n",
       " 67,\n",
       " 84,\n",
       " 47,\n",
       " 31,\n",
       " 128,\n",
       " 123,\n",
       " 112,\n",
       " 72,\n",
       " 85,\n",
       " 73,\n",
       " 132,\n",
       " 24,\n",
       " 146,\n",
       " 81,\n",
       " 43,\n",
       " 6,\n",
       " 108,\n",
       " 139,\n",
       " 42,\n",
       " 20,\n",
       " 62,\n",
       " 121,\n",
       " 11,\n",
       " 18,\n",
       " 137,\n",
       " 126,\n",
       " 19,\n",
       " 61,\n",
       " 124,\n",
       " 75]"
      ]
     },
     "execution_count": 2,
     "metadata": {},
     "output_type": "execute_result"
    }
   ],
   "source": [
    "# set random generator seed\n",
    "random.seed(20170312)\n",
    "index = shuffle(range(0,149))\n",
    "index"
   ]
  },
  {
   "cell_type": "code",
   "execution_count": 3,
   "metadata": {
    "collapsed": false,
    "deletable": true,
    "editable": true
   },
   "outputs": [
    {
     "data": {
      "text/plain": [
       "150"
      ]
     },
     "execution_count": 3,
     "metadata": {},
     "output_type": "execute_result"
    }
   ],
   "source": [
    "iris_df = datasets.load_iris()\n",
    "len(iris_df.data)"
   ]
  },
  {
   "cell_type": "markdown",
   "metadata": {
    "collapsed": true,
    "deletable": true,
    "editable": true
   },
   "source": [
    "# 1 Split data into train & test"
   ]
  },
  {
   "cell_type": "code",
   "execution_count": null,
   "metadata": {
    "collapsed": false,
    "deletable": true,
    "editable": true
   },
   "outputs": [],
   "source": [
    "#train = iris_df.head(70)"
   ]
  },
  {
   "cell_type": "code",
   "execution_count": null,
   "metadata": {
    "collapsed": false,
    "deletable": true,
    "editable": true
   },
   "outputs": [],
   "source": [
    "#train.head(2)"
   ]
  },
  {
   "cell_type": "code",
   "execution_count": 4,
   "metadata": {
    "collapsed": false,
    "deletable": true,
    "editable": true
   },
   "outputs": [],
   "source": [
    "#x_train = train[['x1' ,'x2','x3' ,'x4' ,'x5' ,'x6' ,'x7', 'x8']]\n",
    "x_train = iris_df.data[index[:100], ]"
   ]
  },
  {
   "cell_type": "code",
   "execution_count": null,
   "metadata": {
    "collapsed": false,
    "deletable": true,
    "editable": true
   },
   "outputs": [],
   "source": [
    "#x_train = x_train.apply(list, 1)"
   ]
  },
  {
   "cell_type": "code",
   "execution_count": null,
   "metadata": {
    "collapsed": false,
    "deletable": true,
    "editable": true
   },
   "outputs": [],
   "source": [
    "#x_train"
   ]
  },
  {
   "cell_type": "code",
   "execution_count": 5,
   "metadata": {
    "collapsed": false,
    "deletable": true,
    "editable": true
   },
   "outputs": [],
   "source": [
    "#y_train = train['y']\n",
    "y_train = iris_df.target[index[:100]]"
   ]
  },
  {
   "cell_type": "code",
   "execution_count": null,
   "metadata": {
    "collapsed": true,
    "deletable": true,
    "editable": true
   },
   "outputs": [],
   "source": [
    "#test = iris_df.tail(30)"
   ]
  },
  {
   "cell_type": "code",
   "execution_count": 6,
   "metadata": {
    "collapsed": false,
    "deletable": true,
    "editable": true
   },
   "outputs": [],
   "source": [
    "#x_test = test[['x1' ,'x2','x3' ,'x4' ,'x5' ,'x6' ,'x7', 'x8']]\n",
    "x_test = iris_df.data[index[100:150],]"
   ]
  },
  {
   "cell_type": "code",
   "execution_count": 7,
   "metadata": {
    "collapsed": true,
    "deletable": true,
    "editable": true
   },
   "outputs": [],
   "source": [
    "#y_test = test['y']\n",
    "y_test = iris_df.target[index[100:150]]"
   ]
  },
  {
   "cell_type": "code",
   "execution_count": 8,
   "metadata": {
    "collapsed": false,
    "deletable": true,
    "editable": true
   },
   "outputs": [],
   "source": [
    "clf = LogisticRegression(solver='newton-cg', max_iter=100, random_state=42,\n",
    "                             multi_class='multinomial').fit(x_train, y_train)"
   ]
  },
  {
   "cell_type": "code",
   "execution_count": 9,
   "metadata": {
    "collapsed": false,
    "deletable": true,
    "editable": true,
    "scrolled": true
   },
   "outputs": [
    {
     "data": {
      "text/plain": [
       "LogisticRegression(C=1.0, class_weight=None, dual=False, fit_intercept=True,\n",
       "          intercept_scaling=1, max_iter=100, multi_class='multinomial',\n",
       "          n_jobs=1, penalty='l2', random_state=42, solver='newton-cg',\n",
       "          tol=0.0001, verbose=0, warm_start=False)"
      ]
     },
     "execution_count": 9,
     "metadata": {},
     "output_type": "execute_result"
    }
   ],
   "source": [
    "clf"
   ]
  },
  {
   "cell_type": "markdown",
   "metadata": {
    "deletable": true,
    "editable": true
   },
   "source": [
    "## 1.1 perf on train"
   ]
  },
  {
   "cell_type": "code",
   "execution_count": 10,
   "metadata": {
    "collapsed": false,
    "deletable": true,
    "editable": true
   },
   "outputs": [
    {
     "data": {
      "text/plain": [
       "0.96999999999999997"
      ]
     },
     "execution_count": 10,
     "metadata": {},
     "output_type": "execute_result"
    }
   ],
   "source": [
    "clf.score(x_train, y_train)"
   ]
  },
  {
   "cell_type": "code",
   "execution_count": 12,
   "metadata": {
    "collapsed": true,
    "deletable": true,
    "editable": true
   },
   "outputs": [],
   "source": [
    "y_pred = clf.predict(x_test)"
   ]
  },
  {
   "cell_type": "markdown",
   "metadata": {
    "deletable": true,
    "editable": true
   },
   "source": [
    "## 1.2 perf on test"
   ]
  },
  {
   "cell_type": "code",
   "execution_count": 13,
   "metadata": {
    "collapsed": false,
    "deletable": true,
    "editable": true
   },
   "outputs": [
    {
     "data": {
      "text/plain": [
       "0.91836734693877553"
      ]
     },
     "execution_count": 13,
     "metadata": {},
     "output_type": "execute_result"
    }
   ],
   "source": [
    "clf.score(x_test, y_test)"
   ]
  },
  {
   "cell_type": "code",
   "execution_count": 14,
   "metadata": {
    "collapsed": false,
    "deletable": true,
    "editable": true,
    "scrolled": true
   },
   "outputs": [
    {
     "data": {
      "text/plain": [
       "array([0, 2, 2, 0, 2, 0, 2, 0, 1, 1, 1, 1, 1, 2, 0, 2, 1, 2, 0, 1, 1, 0, 0,\n",
       "       2, 2, 2, 1, 1, 1, 2, 0, 2, 1, 0, 0, 2, 2, 0, 0, 1, 2, 0, 0, 2, 2, 0,\n",
       "       1, 2, 1])"
      ]
     },
     "execution_count": 14,
     "metadata": {},
     "output_type": "execute_result"
    }
   ],
   "source": [
    "y_test"
   ]
  },
  {
   "cell_type": "code",
   "execution_count": 15,
   "metadata": {
    "collapsed": false,
    "deletable": true,
    "editable": true
   },
   "outputs": [
    {
     "data": {
      "text/plain": [
       "array([0, 2, 2, 0, 2, 0, 2, 0, 1, 1, 1, 1, 1, 2, 0, 1, 1, 1, 0, 1, 1, 0, 0,\n",
       "       2, 1, 2, 1, 1, 1, 2, 0, 2, 1, 0, 0, 2, 2, 0, 0, 1, 2, 0, 0, 2, 1, 0,\n",
       "       1, 2, 1])"
      ]
     },
     "execution_count": 15,
     "metadata": {},
     "output_type": "execute_result"
    }
   ],
   "source": [
    "y_pred"
   ]
  },
  {
   "cell_type": "markdown",
   "metadata": {
    "collapsed": true,
    "deletable": true,
    "editable": true
   },
   "source": [
    "# 2 Cross-validations"
   ]
  },
  {
   "cell_type": "code",
   "execution_count": 59,
   "metadata": {
    "collapsed": false,
    "deletable": true,
    "editable": true
   },
   "outputs": [],
   "source": [
    "apps = pd.DataFrame(0., index=np.arange(10), columns=[\"logreg\", \"svm\", \"NB\"])\n",
    "tests = pd.DataFrame(0., index=np.arange(10), columns=[\"logreg\", \"svm\", \"NB\"])"
   ]
  },
  {
   "cell_type": "code",
   "execution_count": 61,
   "metadata": {
    "collapsed": false,
    "deletable": true,
    "editable": true
   },
   "outputs": [],
   "source": [
    "ss = ShuffleSplit(n_splits=10, random_state=0)\n",
    "i = 0\n",
    "for train_index, test_index in ss.split(iris_df.target):\n",
    "    logreg_clf = LogisticRegression(solver='newton-cg', max_iter=100, random_state=42,\n",
    "                             multi_class='multinomial').fit(iris_df.data[train_index,], iris_df.target[train_index])\n",
    "    svm_clf = svm.SVC(decision_function_shape='ovo').fit(iris_df.data[train_index,], iris_df.target[train_index])\n",
    "    nb_clf = GaussianNB().fit(iris_df.data[train_index,], iris_df.target[train_index])\n",
    "    apps[\"logreg\"][i] = logreg_clf.score(iris_df.data[train_index,], iris_df.target[train_index])\n",
    "    tests[\"logreg\"][i] = logreg_clf.score(iris_df.data[test_index], iris_df.target[test_index])\n",
    "    apps[\"svm\"][i] = svm_clf.score(iris_df.data[train_index,], iris_df.target[train_index])\n",
    "    tests[\"svm\"][i] = svm_clf.score(iris_df.data[test_index], iris_df.target[test_index])\n",
    "    apps[\"NB\"][i] = nb_clf.score(iris_df.data[train_index,], iris_df.target[train_index])\n",
    "    tests[\"NB\"][i] = nb_clf.score(iris_df.data[test_index], iris_df.target[test_index])\n",
    "    i = i + 1"
   ]
  },
  {
   "cell_type": "code",
   "execution_count": 69,
   "metadata": {
    "collapsed": false,
    "deletable": true,
    "editable": true
   },
   "outputs": [
    {
     "data": {
      "text/html": [
       "<div>\n",
       "<table border=\"1\" class=\"dataframe\">\n",
       "  <thead>\n",
       "    <tr style=\"text-align: right;\">\n",
       "      <th></th>\n",
       "      <th>logreg</th>\n",
       "      <th>svm</th>\n",
       "      <th>NB</th>\n",
       "    </tr>\n",
       "  </thead>\n",
       "  <tbody>\n",
       "    <tr>\n",
       "      <th>0</th>\n",
       "      <td>0.029630</td>\n",
       "      <td>0.014815</td>\n",
       "      <td>0.044444</td>\n",
       "    </tr>\n",
       "    <tr>\n",
       "      <th>1</th>\n",
       "      <td>0.022222</td>\n",
       "      <td>0.014815</td>\n",
       "      <td>0.029630</td>\n",
       "    </tr>\n",
       "    <tr>\n",
       "      <th>2</th>\n",
       "      <td>0.022222</td>\n",
       "      <td>0.014815</td>\n",
       "      <td>0.037037</td>\n",
       "    </tr>\n",
       "    <tr>\n",
       "      <th>3</th>\n",
       "      <td>0.022222</td>\n",
       "      <td>0.014815</td>\n",
       "      <td>0.044444</td>\n",
       "    </tr>\n",
       "    <tr>\n",
       "      <th>4</th>\n",
       "      <td>0.029630</td>\n",
       "      <td>0.014815</td>\n",
       "      <td>0.044444</td>\n",
       "    </tr>\n",
       "    <tr>\n",
       "      <th>5</th>\n",
       "      <td>0.029630</td>\n",
       "      <td>0.022222</td>\n",
       "      <td>0.029630</td>\n",
       "    </tr>\n",
       "    <tr>\n",
       "      <th>6</th>\n",
       "      <td>0.029630</td>\n",
       "      <td>0.014815</td>\n",
       "      <td>0.044444</td>\n",
       "    </tr>\n",
       "    <tr>\n",
       "      <th>7</th>\n",
       "      <td>0.029630</td>\n",
       "      <td>0.014815</td>\n",
       "      <td>0.037037</td>\n",
       "    </tr>\n",
       "    <tr>\n",
       "      <th>8</th>\n",
       "      <td>0.029630</td>\n",
       "      <td>0.022222</td>\n",
       "      <td>0.044444</td>\n",
       "    </tr>\n",
       "    <tr>\n",
       "      <th>9</th>\n",
       "      <td>0.029630</td>\n",
       "      <td>0.014815</td>\n",
       "      <td>0.037037</td>\n",
       "    </tr>\n",
       "  </tbody>\n",
       "</table>\n",
       "</div>"
      ],
      "text/plain": [
       "     logreg       svm        NB\n",
       "0  0.029630  0.014815  0.044444\n",
       "1  0.022222  0.014815  0.029630\n",
       "2  0.022222  0.014815  0.037037\n",
       "3  0.022222  0.014815  0.044444\n",
       "4  0.029630  0.014815  0.044444\n",
       "5  0.029630  0.022222  0.029630\n",
       "6  0.029630  0.014815  0.044444\n",
       "7  0.029630  0.014815  0.037037\n",
       "8  0.029630  0.022222  0.044444\n",
       "9  0.029630  0.014815  0.037037"
      ]
     },
     "execution_count": 69,
     "metadata": {},
     "output_type": "execute_result"
    }
   ],
   "source": [
    "apps = 1. - apps\n",
    "apps"
   ]
  },
  {
   "cell_type": "code",
   "execution_count": 70,
   "metadata": {
    "collapsed": false,
    "deletable": true,
    "editable": true
   },
   "outputs": [
    {
     "data": {
      "text/plain": [
       "logreg    0.027407\n",
       "svm       0.016296\n",
       "NB        0.039259\n",
       "dtype: float64"
      ]
     },
     "execution_count": 70,
     "metadata": {},
     "output_type": "execute_result"
    }
   ],
   "source": [
    "# mean training error => first thought: svm is the best model \n",
    "np.mean(apps)"
   ]
  },
  {
   "cell_type": "code",
   "execution_count": 71,
   "metadata": {
    "collapsed": false,
    "deletable": true,
    "editable": true
   },
   "outputs": [
    {
     "data": {
      "text/plain": [
       "logreg    0.003395\n",
       "svm       0.002963\n",
       "NB        0.005785\n",
       "dtype: float64"
      ]
     },
     "execution_count": 71,
     "metadata": {},
     "output_type": "execute_result"
    }
   ],
   "source": [
    "# std training error\n",
    "np.std(apps)"
   ]
  },
  {
   "cell_type": "code",
   "execution_count": 72,
   "metadata": {
    "collapsed": false,
    "deletable": true,
    "editable": true
   },
   "outputs": [
    {
     "data": {
      "text/plain": [
       "logreg    0.030802\n",
       "svm       0.019259\n",
       "NB        0.045045\n",
       "dtype: float64"
      ]
     },
     "execution_count": 72,
     "metadata": {},
     "output_type": "execute_result"
    }
   ],
   "source": [
    "# rule of thumb : minimize the average error + 1 std => svm is still the best model\n",
    "np.mean(apps) + np.std(apps)"
   ]
  },
  {
   "cell_type": "code",
   "execution_count": null,
   "metadata": {
    "collapsed": false,
    "deletable": true,
    "editable": true
   },
   "outputs": [],
   "source": [
    "# Naive Bayes works not very well because of strong theorical hypotheses (features independence)\n",
    "# which is not intuitively met in this case.\n",
    "# SVM work better than logistic regression because of the kernel transformation"
   ]
  }
 ],
 "metadata": {
  "kernelspec": {
   "display_name": "Python 2",
   "language": "python",
   "name": "python2"
  },
  "language_info": {
   "codemirror_mode": {
    "name": "ipython",
    "version": 2
   },
   "file_extension": ".py",
   "mimetype": "text/x-python",
   "name": "python",
   "nbconvert_exporter": "python",
   "pygments_lexer": "ipython2",
   "version": "2.7.6"
  }
 },
 "nbformat": 4,
 "nbformat_minor": 0
}
